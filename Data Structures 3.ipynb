{
 "cells": [
  {
   "cell_type": "markdown",
   "id": "6ce6ef09",
   "metadata": {},
   "source": [
    "# Python data structutrs:\n",
    "- string\n",
    "- list\n",
    "- tuple\n",
    "- set\n",
    "- dictionary"
   ]
  },
  {
   "cell_type": "markdown",
   "id": "2f19db34",
   "metadata": {},
   "source": [
    "# Strings"
   ]
  },
  {
   "cell_type": "code",
   "execution_count": 1,
   "id": "5163974f",
   "metadata": {},
   "outputs": [
    {
     "data": {
      "text/plain": [
       "str"
      ]
     },
     "execution_count": 1,
     "metadata": {},
     "output_type": "execute_result"
    }
   ],
   "source": [
    "type('I am khamir')"
   ]
  },
  {
   "cell_type": "code",
   "execution_count": 2,
   "id": "1022a44e",
   "metadata": {},
   "outputs": [],
   "source": [
    "s = 'I am khamir'"
   ]
  },
  {
   "cell_type": "code",
   "execution_count": 10,
   "id": "b3e0986a",
   "metadata": {},
   "outputs": [
    {
     "data": {
      "text/plain": [
       "('I', 'm', 'r')"
      ]
     },
     "execution_count": 10,
     "metadata": {},
     "output_type": "execute_result"
    }
   ],
   "source": [
    "s[0], s[3], s[-1]"
   ]
  },
  {
   "cell_type": "code",
   "execution_count": 12,
   "id": "d4287072",
   "metadata": {},
   "outputs": [
    {
     "data": {
      "text/plain": [
       "'m'"
      ]
     },
     "execution_count": 12,
     "metadata": {},
     "output_type": "execute_result"
    }
   ],
   "source": [
    "s[-3]"
   ]
  },
  {
   "cell_type": "code",
   "execution_count": 7,
   "id": "30dcd272",
   "metadata": {},
   "outputs": [
    {
     "data": {
      "text/plain": [
       "'am'"
      ]
     },
     "execution_count": 7,
     "metadata": {},
     "output_type": "execute_result"
    }
   ],
   "source": [
    "s[2:4]"
   ]
  },
  {
   "cell_type": "code",
   "execution_count": 8,
   "id": "7a491072",
   "metadata": {},
   "outputs": [
    {
     "data": {
      "text/plain": [
       "'I am'"
      ]
     },
     "execution_count": 8,
     "metadata": {},
     "output_type": "execute_result"
    }
   ],
   "source": [
    "s[:4]"
   ]
  },
  {
   "cell_type": "code",
   "execution_count": 9,
   "id": "f7a09aa4",
   "metadata": {},
   "outputs": [
    {
     "data": {
      "text/plain": [
       "'khamir'"
      ]
     },
     "execution_count": 9,
     "metadata": {},
     "output_type": "execute_result"
    }
   ],
   "source": [
    "s[5:]"
   ]
  },
  {
   "cell_type": "code",
   "execution_count": 15,
   "id": "b711b7f9",
   "metadata": {},
   "outputs": [
    {
     "name": "stdout",
     "output_type": "stream",
     "text": [
      "Hello! This is amir\n"
     ]
    }
   ],
   "source": [
    "s1 = 'Hello!'\n",
    "s2 = 'This is amir'\n",
    "\n",
    "s3 = s1 + ' ' + s2 \n",
    "print(s3)"
   ]
  },
  {
   "cell_type": "code",
   "execution_count": 16,
   "id": "78a02de9",
   "metadata": {},
   "outputs": [
    {
     "data": {
      "text/plain": [
       "19"
      ]
     },
     "execution_count": 16,
     "metadata": {},
     "output_type": "execute_result"
    }
   ],
   "source": [
    "len(s3)"
   ]
  },
  {
   "cell_type": "code",
   "execution_count": 17,
   "id": "a4f997e9",
   "metadata": {},
   "outputs": [
    {
     "name": "stdout",
     "output_type": "stream",
     "text": [
      "Hello!\n",
      "Hello!....\n"
     ]
    }
   ],
   "source": [
    "print(s1)\n",
    "s1 += '....' # s1 = s1 + '....'\n",
    "print(s1)"
   ]
  },
  {
   "cell_type": "code",
   "execution_count": 21,
   "id": "246ab927",
   "metadata": {},
   "outputs": [
    {
     "data": {
      "text/plain": [
       "'1, 2, 3, 4, 5, 6, 7, 8, 9, 0'"
      ]
     },
     "execution_count": 21,
     "metadata": {},
     "output_type": "execute_result"
    }
   ],
   "source": [
    "', '.join('1234567890')"
   ]
  },
  {
   "cell_type": "code",
   "execution_count": 22,
   "id": "e33527f6",
   "metadata": {},
   "outputs": [
    {
     "name": "stdout",
     "output_type": "stream",
     "text": [
      "amir\n",
      "AMIR\n",
      "Amir\n"
     ]
    }
   ],
   "source": [
    "L = 'AMIR'\n",
    "print(L.lower())\n",
    "\n",
    "U = 'amir'\n",
    "print(U.upper())\n",
    "\n",
    "C = 'amIR'\n",
    "print(C.capitalize())"
   ]
  },
  {
   "cell_type": "code",
   "execution_count": 25,
   "id": "cf61c7dc",
   "metadata": {},
   "outputs": [
    {
     "ename": "ValueError",
     "evalue": "invalid literal for int() with base 10: '123.1'",
     "output_type": "error",
     "traceback": [
      "\u001b[0;31m---------------------------------------------------------------------------\u001b[0m",
      "\u001b[0;31mValueError\u001b[0m                                Traceback (most recent call last)",
      "Input \u001b[0;32mIn [25]\u001b[0m, in \u001b[0;36m<module>\u001b[0;34m\u001b[0m\n\u001b[0;32m----> 1\u001b[0m \u001b[38;5;28;43mint\u001b[39;49m\u001b[43m(\u001b[49m\u001b[38;5;124;43m'\u001b[39;49m\u001b[38;5;124;43m123.1\u001b[39;49m\u001b[38;5;124;43m'\u001b[39;49m\u001b[43m)\u001b[49m\n",
      "\u001b[0;31mValueError\u001b[0m: invalid literal for int() with base 10: '123.1'"
     ]
    }
   ],
   "source": [
    "int('123.1')"
   ]
  },
  {
   "cell_type": "code",
   "execution_count": 26,
   "id": "bd64ea6d",
   "metadata": {},
   "outputs": [
    {
     "data": {
      "text/plain": [
       "123.1"
      ]
     },
     "execution_count": 26,
     "metadata": {},
     "output_type": "execute_result"
    }
   ],
   "source": [
    "float('123.1')"
   ]
  },
  {
   "cell_type": "code",
   "execution_count": 27,
   "id": "8be07955",
   "metadata": {},
   "outputs": [],
   "source": [
    "S = '2020:10:30'"
   ]
  },
  {
   "cell_type": "code",
   "execution_count": 28,
   "id": "99064c44",
   "metadata": {},
   "outputs": [
    {
     "data": {
      "text/plain": [
       "['2020', '10', '30']"
      ]
     },
     "execution_count": 28,
     "metadata": {},
     "output_type": "execute_result"
    }
   ],
   "source": [
    "S.split(':')"
   ]
  },
  {
   "cell_type": "code",
   "execution_count": 29,
   "id": "bf917b98",
   "metadata": {},
   "outputs": [
    {
     "data": {
      "text/plain": [
       "'amiramiramir'"
      ]
     },
     "execution_count": 29,
     "metadata": {},
     "output_type": "execute_result"
    }
   ],
   "source": [
    "'amir' * 3"
   ]
  },
  {
   "cell_type": "code",
   "execution_count": 32,
   "id": "ecbaf460",
   "metadata": {},
   "outputs": [
    {
     "name": "stdout",
     "output_type": "stream",
     "text": [
      "8\n",
      "-1\n",
      "4\n"
     ]
    }
   ],
   "source": [
    "s = 'my name is amir!'\n",
    "print(s.find('is'))\n",
    "print(s.find('Amir'))\n",
    "print(s.find('am'))"
   ]
  },
  {
   "cell_type": "code",
   "execution_count": 33,
   "id": "ae2d4f14",
   "metadata": {},
   "outputs": [
    {
     "name": "stdout",
     "output_type": "stream",
     "text": [
      "amir!\n",
      "my name is \n",
      "my name is Amir!\n"
     ]
    }
   ],
   "source": [
    "s = 'my name is amir!'\n",
    "\n",
    "print(s.removeprefix('my name is '))\n",
    "print(s.removesuffix('amir!'))\n",
    "print(s.replace('amir', 'Amir'))"
   ]
  },
  {
   "cell_type": "code",
   "execution_count": 34,
   "id": "96a2ade2",
   "metadata": {},
   "outputs": [
    {
     "data": {
      "text/plain": [
       "'my  is amir!'"
      ]
     },
     "execution_count": 34,
     "metadata": {},
     "output_type": "execute_result"
    }
   ],
   "source": [
    "s.replace('name', '')"
   ]
  },
  {
   "cell_type": "code",
   "execution_count": 38,
   "id": "1b004054",
   "metadata": {},
   "outputs": [
    {
     "data": {
      "text/plain": [
       "'05.txt'"
      ]
     },
     "execution_count": 38,
     "metadata": {},
     "output_type": "execute_result"
    }
   ],
   "source": [
    "'5.txt'.zfill(6)"
   ]
  },
  {
   "cell_type": "code",
   "execution_count": 39,
   "id": "50ed5818",
   "metadata": {
    "scrolled": true
   },
   "outputs": [
    {
     "name": "stdout",
     "output_type": "stream",
     "text": [
      "001.txt\n",
      "002.txt\n",
      "003.txt\n",
      "004.txt\n",
      "005.txt\n",
      "006.txt\n",
      "007.txt\n",
      "008.txt\n",
      "009.txt\n",
      "010.txt\n",
      "011.txt\n",
      "012.txt\n",
      "013.txt\n",
      "014.txt\n",
      "015.txt\n",
      "016.txt\n",
      "017.txt\n",
      "018.txt\n",
      "019.txt\n",
      "020.txt\n",
      "021.txt\n",
      "022.txt\n",
      "023.txt\n",
      "024.txt\n",
      "025.txt\n",
      "026.txt\n",
      "027.txt\n",
      "028.txt\n",
      "029.txt\n",
      "030.txt\n",
      "031.txt\n",
      "032.txt\n",
      "033.txt\n",
      "034.txt\n",
      "035.txt\n",
      "036.txt\n",
      "037.txt\n",
      "038.txt\n",
      "039.txt\n",
      "040.txt\n",
      "041.txt\n",
      "042.txt\n",
      "043.txt\n",
      "044.txt\n",
      "045.txt\n",
      "046.txt\n",
      "047.txt\n",
      "048.txt\n",
      "049.txt\n",
      "050.txt\n",
      "051.txt\n",
      "052.txt\n",
      "053.txt\n",
      "054.txt\n",
      "055.txt\n",
      "056.txt\n",
      "057.txt\n",
      "058.txt\n",
      "059.txt\n",
      "060.txt\n",
      "061.txt\n",
      "062.txt\n",
      "063.txt\n",
      "064.txt\n",
      "065.txt\n",
      "066.txt\n",
      "067.txt\n",
      "068.txt\n",
      "069.txt\n",
      "070.txt\n",
      "071.txt\n",
      "072.txt\n",
      "073.txt\n",
      "074.txt\n",
      "075.txt\n",
      "076.txt\n",
      "077.txt\n",
      "078.txt\n",
      "079.txt\n",
      "080.txt\n",
      "081.txt\n",
      "082.txt\n",
      "083.txt\n",
      "084.txt\n",
      "085.txt\n",
      "086.txt\n",
      "087.txt\n",
      "088.txt\n",
      "089.txt\n",
      "090.txt\n",
      "091.txt\n",
      "092.txt\n",
      "093.txt\n",
      "094.txt\n",
      "095.txt\n",
      "096.txt\n",
      "097.txt\n",
      "098.txt\n",
      "099.txt\n",
      "100.txt\n"
     ]
    }
   ],
   "source": [
    "for i in range(1, 101):\n",
    "    print(str(i).zfill(3)+'.txt')"
   ]
  },
  {
   "cell_type": "markdown",
   "id": "1c65367a",
   "metadata": {},
   "source": [
    "# Lists"
   ]
  },
  {
   "cell_type": "code",
   "execution_count": 40,
   "id": "13aedaac",
   "metadata": {},
   "outputs": [],
   "source": [
    "L = [1, 2, 3.14, 'amir', 2+3j, [-1, -3, 'hosein']]"
   ]
  },
  {
   "cell_type": "code",
   "execution_count": 42,
   "id": "d69e28a5",
   "metadata": {},
   "outputs": [
    {
     "data": {
      "text/plain": [
       "(1, (2+3j))"
      ]
     },
     "execution_count": 42,
     "metadata": {},
     "output_type": "execute_result"
    }
   ],
   "source": [
    "L[0], L[4]"
   ]
  },
  {
   "cell_type": "code",
   "execution_count": 44,
   "id": "6e81c862",
   "metadata": {},
   "outputs": [
    {
     "data": {
      "text/plain": [
       "-3"
      ]
     },
     "execution_count": 44,
     "metadata": {},
     "output_type": "execute_result"
    }
   ],
   "source": [
    "L[-1][1]"
   ]
  },
  {
   "cell_type": "code",
   "execution_count": 46,
   "id": "b255be7b",
   "metadata": {},
   "outputs": [
    {
     "data": {
      "text/plain": [
       "[3.14, 'amir', (2+3j)]"
      ]
     },
     "execution_count": 46,
     "metadata": {},
     "output_type": "execute_result"
    }
   ],
   "source": [
    "L[2:5]"
   ]
  },
  {
   "cell_type": "code",
   "execution_count": 47,
   "id": "23c584a6",
   "metadata": {},
   "outputs": [
    {
     "data": {
      "text/plain": [
       "6"
      ]
     },
     "execution_count": 47,
     "metadata": {},
     "output_type": "execute_result"
    }
   ],
   "source": [
    "len(L)"
   ]
  },
  {
   "cell_type": "code",
   "execution_count": 48,
   "id": "419a8cf6",
   "metadata": {},
   "outputs": [],
   "source": [
    "L = [i**2 for i in range(10)]"
   ]
  },
  {
   "cell_type": "code",
   "execution_count": 49,
   "id": "52ebd131",
   "metadata": {},
   "outputs": [
    {
     "data": {
      "text/plain": [
       "[0, 1, 4, 9, 16, 25, 36, 49, 64, 81]"
      ]
     },
     "execution_count": 49,
     "metadata": {},
     "output_type": "execute_result"
    }
   ],
   "source": [
    "L"
   ]
  },
  {
   "cell_type": "code",
   "execution_count": 50,
   "id": "90a6db2d",
   "metadata": {},
   "outputs": [
    {
     "name": "stdout",
     "output_type": "stream",
     "text": [
      "[0]\n",
      "[0, 1]\n",
      "[0, 1, 4]\n",
      "[0, 1, 4, 9]\n",
      "[0, 1, 4, 9, 16]\n",
      "[0, 1, 4, 9, 16, 25]\n",
      "[0, 1, 4, 9, 16, 25, 36]\n",
      "[0, 1, 4, 9, 16, 25, 36, 49]\n",
      "[0, 1, 4, 9, 16, 25, 36, 49, 64]\n",
      "[0, 1, 4, 9, 16, 25, 36, 49, 64, 81]\n"
     ]
    }
   ],
   "source": [
    "L = []\n",
    "\n",
    "for i in range(10):\n",
    "    L.append(i**2)\n",
    "    print(L)"
   ]
  },
  {
   "cell_type": "code",
   "execution_count": 52,
   "id": "f9a7c3c3",
   "metadata": {},
   "outputs": [
    {
     "name": "stdout",
     "output_type": "stream",
     "text": [
      "1\n"
     ]
    }
   ],
   "source": [
    "L1 = [1, 2, 3]\n",
    "L2 = L1.copy()\n",
    "L2[0] = -1\n",
    "print(L1[0])"
   ]
  },
  {
   "cell_type": "code",
   "execution_count": 54,
   "id": "50fdcc7e",
   "metadata": {},
   "outputs": [
    {
     "name": "stdout",
     "output_type": "stream",
     "text": [
      "[1, 2, 3, 4, 5, 6]\n",
      "[1, 2, 3, 1, 2, 3]\n"
     ]
    }
   ],
   "source": [
    "print([1, 2, 3] + [4, 5, 6])\n",
    "print([1, 2, 3] * 2)"
   ]
  },
  {
   "cell_type": "code",
   "execution_count": 55,
   "id": "fb9fb24f",
   "metadata": {},
   "outputs": [
    {
     "data": {
      "text/plain": [
       "'It is a book'"
      ]
     },
     "execution_count": 55,
     "metadata": {},
     "output_type": "execute_result"
    }
   ],
   "source": [
    "' '.join(['It', 'is', 'a', 'book'])"
   ]
  },
  {
   "cell_type": "code",
   "execution_count": 66,
   "id": "7acfc54b",
   "metadata": {},
   "outputs": [
    {
     "name": "stdout",
     "output_type": "stream",
     "text": [
      "[2, 1, 4, 3, 6, 5, 8, 7]\n",
      "[7, 8, 5, 6, 3, 4, 1, 2]\n",
      "2\n",
      "[7, 8, 5, 6, 3, 4, 1]\n",
      "[1, 3, 4, 5, 6, 7, 8]\n",
      "[1, 2, 3, 4, 5, 6, 7, 8]\n",
      "[1, 2, 3, 4, 5, 6, 7, 8, 5]\n",
      "[1, 2, 3, 4, 6, 7, 8, 5]\n",
      "4\n"
     ]
    }
   ],
   "source": [
    "L = [2, 1, 4, 3, 6, 5, 8, 7]\n",
    "print(L)\n",
    "\n",
    "L.reverse()\n",
    "print(L)\n",
    "\n",
    "print(L.pop())\n",
    "print(L)\n",
    "\n",
    "L.sort()\n",
    "print(L)\n",
    "\n",
    "L.insert(1, 2)\n",
    "print(L)\n",
    "\n",
    "L.append(5)\n",
    "print(L)\n",
    "L.remove(5)\n",
    "print(L)\n",
    "\n",
    "print(L.index(6))"
   ]
  },
  {
   "cell_type": "code",
   "execution_count": 65,
   "id": "cf6900fd",
   "metadata": {},
   "outputs": [
    {
     "name": "stdout",
     "output_type": "stream",
     "text": [
      "[1, 2, 3, 4, 6, 7, 8]\n",
      "[]\n"
     ]
    }
   ],
   "source": [
    "print(L)\n",
    "L.clear()\n",
    "print(L)"
   ]
  },
  {
   "cell_type": "code",
   "execution_count": 67,
   "id": "0ee3cfe3",
   "metadata": {},
   "outputs": [],
   "source": [
    "L = ['amir', 'ali', 'sina', 'fatemeh']"
   ]
  },
  {
   "cell_type": "code",
   "execution_count": 72,
   "id": "e469e357",
   "metadata": {},
   "outputs": [
    {
     "name": "stdout",
     "output_type": "stream",
     "text": [
      "[]\n"
     ]
    },
    {
     "ename": "IndexError",
     "evalue": "pop from empty list",
     "output_type": "error",
     "traceback": [
      "\u001b[0;31m---------------------------------------------------------------------------\u001b[0m",
      "\u001b[0;31mIndexError\u001b[0m                                Traceback (most recent call last)",
      "Input \u001b[0;32mIn [72]\u001b[0m, in \u001b[0;36m<module>\u001b[0;34m\u001b[0m\n\u001b[1;32m      1\u001b[0m \u001b[38;5;28mprint\u001b[39m(L)\n\u001b[0;32m----> 2\u001b[0m \u001b[38;5;28mprint\u001b[39m(\u001b[43mL\u001b[49m\u001b[38;5;241;43m.\u001b[39;49m\u001b[43mpop\u001b[49m\u001b[43m(\u001b[49m\u001b[43m)\u001b[49m)\n\u001b[1;32m      3\u001b[0m \u001b[38;5;28mprint\u001b[39m(L)\n",
      "\u001b[0;31mIndexError\u001b[0m: pop from empty list"
     ]
    }
   ],
   "source": [
    "print(L)\n",
    "print(L.pop())\n",
    "print(L)"
   ]
  },
  {
   "cell_type": "code",
   "execution_count": 76,
   "id": "4514eb35",
   "metadata": {},
   "outputs": [
    {
     "data": {
      "text/plain": [
       "'ali'"
      ]
     },
     "execution_count": 76,
     "metadata": {},
     "output_type": "execute_result"
    }
   ],
   "source": [
    "L = ['amir', 'ali', 'sina', 'fatemeh']\n",
    "L.pop(1)"
   ]
  },
  {
   "cell_type": "markdown",
   "id": "4b724ac8",
   "metadata": {},
   "source": [
    "# Tuples"
   ]
  },
  {
   "cell_type": "code",
   "execution_count": 77,
   "id": "ec459718",
   "metadata": {},
   "outputs": [],
   "source": [
    "T = (1, 2, 3, 4)"
   ]
  },
  {
   "cell_type": "code",
   "execution_count": 78,
   "id": "11073858",
   "metadata": {},
   "outputs": [
    {
     "ename": "TypeError",
     "evalue": "'tuple' object does not support item assignment",
     "output_type": "error",
     "traceback": [
      "\u001b[0;31m---------------------------------------------------------------------------\u001b[0m",
      "\u001b[0;31mTypeError\u001b[0m                                 Traceback (most recent call last)",
      "Input \u001b[0;32mIn [78]\u001b[0m, in \u001b[0;36m<module>\u001b[0;34m\u001b[0m\n\u001b[0;32m----> 1\u001b[0m T[\u001b[38;5;241m0\u001b[39m] \u001b[38;5;241m=\u001b[39m \u001b[38;5;241m-\u001b[39m\u001b[38;5;241m1\u001b[39m\n",
      "\u001b[0;31mTypeError\u001b[0m: 'tuple' object does not support item assignment"
     ]
    }
   ],
   "source": [
    "T[0] = -1"
   ]
  },
  {
   "cell_type": "markdown",
   "id": "1b2fc814",
   "metadata": {},
   "source": [
    "# Set"
   ]
  },
  {
   "cell_type": "code",
   "execution_count": 1,
   "id": "6bb52860",
   "metadata": {},
   "outputs": [],
   "source": [
    "S = {1, 2, 3, 4, 4, -1, 6}"
   ]
  },
  {
   "cell_type": "code",
   "execution_count": 2,
   "id": "ea15398d",
   "metadata": {},
   "outputs": [
    {
     "name": "stdout",
     "output_type": "stream",
     "text": [
      "{1, 2, 3, 4, 6, -1}\n"
     ]
    }
   ],
   "source": [
    "print(S)"
   ]
  },
  {
   "cell_type": "code",
   "execution_count": 14,
   "id": "0e27578d",
   "metadata": {},
   "outputs": [],
   "source": [
    "S1 = {1, 2, 3, 4, 5}\n",
    "S2 = {4, 5, 6, 7, 8}"
   ]
  },
  {
   "cell_type": "code",
   "execution_count": 15,
   "id": "b8d09bec",
   "metadata": {},
   "outputs": [
    {
     "data": {
      "text/plain": [
       "{1, 2, 3, 4, 5, 6, 7, 8}"
      ]
     },
     "execution_count": 15,
     "metadata": {},
     "output_type": "execute_result"
    }
   ],
   "source": [
    "S1.union(S2)"
   ]
  },
  {
   "cell_type": "code",
   "execution_count": 16,
   "id": "2e1e9e98",
   "metadata": {},
   "outputs": [
    {
     "data": {
      "text/plain": [
       "{4, 5}"
      ]
     },
     "execution_count": 16,
     "metadata": {},
     "output_type": "execute_result"
    }
   ],
   "source": [
    "S1.intersection(S2)"
   ]
  },
  {
   "cell_type": "code",
   "execution_count": 17,
   "id": "4228ef5c",
   "metadata": {},
   "outputs": [],
   "source": [
    "S1.add(6)"
   ]
  },
  {
   "cell_type": "code",
   "execution_count": 18,
   "id": "c6f518c1",
   "metadata": {},
   "outputs": [
    {
     "data": {
      "text/plain": [
       "{1, 2, 3, 4, 5, 6}"
      ]
     },
     "execution_count": 18,
     "metadata": {},
     "output_type": "execute_result"
    }
   ],
   "source": [
    "S1"
   ]
  },
  {
   "cell_type": "code",
   "execution_count": 19,
   "id": "a5756e7f",
   "metadata": {},
   "outputs": [],
   "source": [
    "S1.remove(5)"
   ]
  },
  {
   "cell_type": "code",
   "execution_count": 20,
   "id": "19bb611a",
   "metadata": {},
   "outputs": [
    {
     "data": {
      "text/plain": [
       "{1, 2, 3, 4, 6}"
      ]
     },
     "execution_count": 20,
     "metadata": {},
     "output_type": "execute_result"
    }
   ],
   "source": [
    "S1"
   ]
  },
  {
   "cell_type": "code",
   "execution_count": 23,
   "id": "db649d63",
   "metadata": {},
   "outputs": [
    {
     "data": {
      "text/plain": [
       "True"
      ]
     },
     "execution_count": 23,
     "metadata": {},
     "output_type": "execute_result"
    }
   ],
   "source": [
    "-1 in S"
   ]
  },
  {
   "cell_type": "code",
   "execution_count": 24,
   "id": "9ee20c9d",
   "metadata": {},
   "outputs": [
    {
     "name": "stdout",
     "output_type": "stream",
     "text": [
      "1\n",
      "2\n",
      "3\n",
      "4\n",
      "6\n",
      "-1\n"
     ]
    }
   ],
   "source": [
    "for e in S:\n",
    "    print(e)"
   ]
  },
  {
   "cell_type": "code",
   "execution_count": 25,
   "id": "62e4f09c",
   "metadata": {},
   "outputs": [
    {
     "name": "stdout",
     "output_type": "stream",
     "text": [
      "0 1\n",
      "1 2\n",
      "2 3\n",
      "3 4\n",
      "4 6\n",
      "5 -1\n"
     ]
    }
   ],
   "source": [
    "for i, e in enumerate(S):\n",
    "    print(i, e)"
   ]
  },
  {
   "cell_type": "code",
   "execution_count": 30,
   "id": "255a9df5",
   "metadata": {},
   "outputs": [
    {
     "data": {
      "text/plain": [
       "True"
      ]
     },
     "execution_count": 30,
     "metadata": {},
     "output_type": "execute_result"
    }
   ],
   "source": [
    "10 in [1, 3, 5, 7, 10]"
   ]
  },
  {
   "cell_type": "code",
   "execution_count": 27,
   "id": "60c096fb",
   "metadata": {},
   "outputs": [
    {
     "data": {
      "text/plain": [
       "True"
      ]
     },
     "execution_count": 27,
     "metadata": {},
     "output_type": "execute_result"
    }
   ],
   "source": [
    "'amir' in 'Khamir'"
   ]
  },
  {
   "cell_type": "code",
   "execution_count": 28,
   "id": "05679092",
   "metadata": {},
   "outputs": [
    {
     "data": {
      "text/plain": [
       "True"
      ]
     },
     "execution_count": 28,
     "metadata": {},
     "output_type": "execute_result"
    }
   ],
   "source": [
    "'amir' in ('amir', 'ali', 'reza')"
   ]
  },
  {
   "cell_type": "markdown",
   "id": "b24b1e7d",
   "metadata": {},
   "source": [
    "# Dictionary"
   ]
  },
  {
   "cell_type": "code",
   "execution_count": 35,
   "id": "975fff91",
   "metadata": {},
   "outputs": [],
   "source": [
    "D = {'k1':'v1',\n",
    "     'k2':'v2',\n",
    "     'k3':'v3',\n",
    "     'k4':'v4'}"
   ]
  },
  {
   "cell_type": "code",
   "execution_count": 36,
   "id": "e9b73841",
   "metadata": {},
   "outputs": [
    {
     "data": {
      "text/plain": [
       "'v2'"
      ]
     },
     "execution_count": 36,
     "metadata": {},
     "output_type": "execute_result"
    }
   ],
   "source": [
    "D['k2']"
   ]
  },
  {
   "cell_type": "code",
   "execution_count": 39,
   "id": "f9169889",
   "metadata": {},
   "outputs": [
    {
     "data": {
      "text/plain": [
       "['k1', 'k2', 'k3', 'k4']"
      ]
     },
     "execution_count": 39,
     "metadata": {},
     "output_type": "execute_result"
    }
   ],
   "source": [
    "list(D.keys())"
   ]
  },
  {
   "cell_type": "code",
   "execution_count": 40,
   "id": "870c09ac",
   "metadata": {},
   "outputs": [
    {
     "data": {
      "text/plain": [
       "['v1', 'v2', 'v3', 'v4']"
      ]
     },
     "execution_count": 40,
     "metadata": {},
     "output_type": "execute_result"
    }
   ],
   "source": [
    "list(D.values())"
   ]
  },
  {
   "cell_type": "code",
   "execution_count": 41,
   "id": "b11b7012",
   "metadata": {},
   "outputs": [
    {
     "data": {
      "text/plain": [
       "4"
      ]
     },
     "execution_count": 41,
     "metadata": {},
     "output_type": "execute_result"
    }
   ],
   "source": [
    "len(D)"
   ]
  },
  {
   "cell_type": "code",
   "execution_count": 42,
   "id": "71370188",
   "metadata": {},
   "outputs": [
    {
     "name": "stdout",
     "output_type": "stream",
     "text": [
      "name: amir\n",
      "age:26\n",
      "name: Naser\n",
      "age:33\n",
      "name: Berangi\n",
      "age:26\n",
      "name: .\n",
      "age:-1\n"
     ]
    }
   ],
   "source": [
    "age_dic = {}\n",
    "name = input('name: ')\n",
    "age = int(input('age:'))\n",
    "age_dic[name] = age\n",
    "\n",
    "while name != '.' and age != -1:\n",
    "    name = input('name: ')\n",
    "    age = int(input('age:'))\n",
    "    age_dic[name] = age\n",
    "    "
   ]
  },
  {
   "cell_type": "code",
   "execution_count": 48,
   "id": "1a2eccf4",
   "metadata": {},
   "outputs": [
    {
     "data": {
      "text/plain": [
       "33"
      ]
     },
     "execution_count": 48,
     "metadata": {},
     "output_type": "execute_result"
    }
   ],
   "source": [
    "age_dic['Naser']"
   ]
  },
  {
   "cell_type": "code",
   "execution_count": 47,
   "id": "50e67c9e",
   "metadata": {},
   "outputs": [
    {
     "data": {
      "text/plain": [
       "'k3'"
      ]
     },
     "execution_count": 47,
     "metadata": {},
     "output_type": "execute_result"
    }
   ],
   "source": [
    "list(D.keys())[list(D.values()).index('v3')]"
   ]
  },
  {
   "cell_type": "code",
   "execution_count": 54,
   "id": "d5419d89",
   "metadata": {},
   "outputs": [
    {
     "data": {
      "text/plain": [
       "'k2'"
      ]
     },
     "execution_count": 54,
     "metadata": {},
     "output_type": "execute_result"
    }
   ],
   "source": [
    "list(D.keys())[list(D.values()).index('v2')]"
   ]
  },
  {
   "cell_type": "code",
   "execution_count": 50,
   "id": "11586512",
   "metadata": {},
   "outputs": [
    {
     "data": {
      "text/plain": [
       "{'k1': 'v1', 'k2': 'v2', 'k3': 'v3', 'k4': 'v4'}"
      ]
     },
     "execution_count": 50,
     "metadata": {},
     "output_type": "execute_result"
    }
   ],
   "source": [
    "D"
   ]
  },
  {
   "cell_type": "code",
   "execution_count": 55,
   "id": "0d7061d1",
   "metadata": {},
   "outputs": [],
   "source": [
    "data = {'name': [],\n",
    "        'age': [],\n",
    "        'weight': [],\n",
    "        'height': []}"
   ]
  },
  {
   "cell_type": "code",
   "execution_count": 60,
   "id": "2ceb9b25",
   "metadata": {},
   "outputs": [
    {
     "name": "stdout",
     "output_type": "stream",
     "text": [
      "enter entry: amir 24 180 70\n",
      "enter entry: ali 33 190 45\n",
      "enter entry: reza 19 110 31\n",
      "enter entry: .\n"
     ]
    }
   ],
   "source": [
    "data = {'name': [],\n",
    "        'age': [],\n",
    "        'weight': [],\n",
    "        'height': []}\n",
    "\n",
    "e = input('enter entry: ')\n",
    "\n",
    "while e != '.':\n",
    "    data['name'].append(e.split()[0])\n",
    "    data['age'].append(int(e.split()[1]))\n",
    "    data['weight'].append(int(e.split()[2]))\n",
    "    data['height'].append(int(e.split()[3]))\n",
    "    e = input('enter entry: ')\n"
   ]
  },
  {
   "cell_type": "code",
   "execution_count": 61,
   "id": "ebde7cac",
   "metadata": {},
   "outputs": [
    {
     "data": {
      "text/plain": [
       "{'name': ['amir', 'ali', 'reza'],\n",
       " 'age': [24, 33, 19],\n",
       " 'weight': [180, 190, 110],\n",
       " 'height': [70, 45, 31]}"
      ]
     },
     "execution_count": 61,
     "metadata": {},
     "output_type": "execute_result"
    }
   ],
   "source": [
    "data"
   ]
  },
  {
   "cell_type": "code",
   "execution_count": 59,
   "id": "877f278a",
   "metadata": {},
   "outputs": [
    {
     "data": {
      "text/plain": [
       "{'name': ['amir', 'ali', 'rose', 'Deli', '.'],\n",
       " 'age': [26, 31, 33, 27],\n",
       " 'weight': [180, 175, 160, 189],\n",
       " 'height': [70, 59, 76, 63]}"
      ]
     },
     "execution_count": 59,
     "metadata": {},
     "output_type": "execute_result"
    }
   ],
   "source": [
    "data"
   ]
  },
  {
   "cell_type": "code",
   "execution_count": 64,
   "id": "a3981d2c",
   "metadata": {},
   "outputs": [
    {
     "data": {
      "text/plain": [
       "24"
      ]
     },
     "execution_count": 64,
     "metadata": {},
     "output_type": "execute_result"
    }
   ],
   "source": [
    "int('amir 24 180 70'.split()[1])"
   ]
  },
  {
   "cell_type": "code",
   "execution_count": null,
   "id": "e266834e",
   "metadata": {},
   "outputs": [],
   "source": []
  }
 ],
 "metadata": {
  "kernelspec": {
   "display_name": "Python 3 (ipykernel)",
   "language": "python",
   "name": "python3"
  },
  "language_info": {
   "codemirror_mode": {
    "name": "ipython",
    "version": 3
   },
   "file_extension": ".py",
   "mimetype": "text/x-python",
   "name": "python",
   "nbconvert_exporter": "python",
   "pygments_lexer": "ipython3",
   "version": "3.9.5"
  }
 },
 "nbformat": 4,
 "nbformat_minor": 5
}
